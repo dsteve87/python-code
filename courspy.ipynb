{
 "cells": [
  {
   "cell_type": "code",
   "execution_count": 8,
   "metadata": {},
   "outputs": [
    {
     "name": "stdout",
     "output_type": "stream",
     "text": [
      "51+35=86\n",
      "a+b= 86\n",
      "a-b= 86\n",
      "a/b= 86\n",
      "a mod b= 16\n",
      "matrix1 +marrix2 [[0, 1, 2], [3, 4, 5], [6, 7, 3], [0, 1, 2], [3, 4, 5], [6, 7, 3]]\n",
      "conversion [[ 0  2  4]\n",
      " [ 6  8 10]\n",
      " [12 14  6]]\n"
     ]
    }
   ],
   "source": [
    "\"exercice1\"\n",
    "\n",
    "import numpy as np\n",
    "a=51\n",
    "b=35\n",
    "\n",
    "print(\"{}+{}={}\".format(a,b,a+b))\n",
    "\n",
    "r1=a+b\n",
    "print(\"a+b=\",r1)\n",
    "r2=a-b\n",
    "print(\"a-b=\",r1)\n",
    "r3=a/b\n",
    "print(\"a/b=\",r1)\n",
    "r4=a%b\n",
    "print(\"a mod b=\",r4)\n",
    "\n",
    "\n",
    "Matrix1=[[0, 1, 2],\n",
    "               [3, 4, 5],\n",
    "               [6, 7, 3]]\n",
    "\n",
    "Matrix2=[[0, 1, 2],\n",
    "               [3, 4, 5],\n",
    "               [6, 7, 3]]\n",
    "\n",
    "print (\"matrix1 +marrix2\",Matrix1+Matrix2)\n",
    "\n",
    "print (\"conversion\",np.array(Matrix1)+np.array(Matrix2))\n",
    "\n"
   ]
  },
  {
   "cell_type": "code",
   "execution_count": 9,
   "metadata": {},
   "outputs": [
    {
     "name": "stdout",
     "output_type": "stream",
     "text": [
      "2 * 3 = 6\n"
     ]
    }
   ],
   "source": [
    "\"exercice2\"\n",
    "nber1=int(input(\"entrer un entier\"))\n",
    "nber2=int(input(\"entrer un autre entier\"))\n",
    "print(\"{} * {} = {}\".format(nber1,nber2,nber1*nber2))\n",
    "\n",
    "#nber1=float(input(\"entrer un float\"))\n",
    "#nber2=float(input(\"entrer un autre float\"))\n",
    "#print(\"{} + {} = {}\".format(nber1,nber2,nber1+nber2))\n",
    "\n"
   ]
  }
 ],
 "metadata": {
  "kernelspec": {
   "display_name": "Python 3",
   "language": "python",
   "name": "python3"
  },
  "language_info": {
   "codemirror_mode": {
    "name": "ipython",
    "version": 3
   },
   "file_extension": ".py",
   "mimetype": "text/x-python",
   "name": "python",
   "nbconvert_exporter": "python",
   "pygments_lexer": "ipython3",
   "version": "3.8.10"
  }
 },
 "nbformat": 4,
 "nbformat_minor": 2
}
